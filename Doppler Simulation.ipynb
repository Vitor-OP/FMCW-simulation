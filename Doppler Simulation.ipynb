{
 "cells": [
  {
   "cell_type": "code",
   "execution_count": 1,
   "metadata": {},
   "outputs": [],
   "source": [
    "import numpy as np\n",
    "import matplotlib.pyplot as plt"
   ]
  },
  {
   "cell_type": "code",
   "execution_count": null,
   "metadata": {},
   "outputs": [],
   "source": [
    "fs = 50e6 # sampling frequency 50 MHz\n",
    "n = 512 # samples\n",
    "\n",
    "time_domain = np.linspace(0, n/fs, n)\n",
    "signal = np.exp(2j*np.pi*())"
   ]
  },
  {
   "cell_type": "code",
   "execution_count": null,
   "metadata": {},
   "outputs": [],
   "source": [
    "fig, axes = plt.subplots(2, 1, figsize=(15, 7), dpi=150)\n",
    "\n",
    "# xlim_low = f0 * 0.8\n",
    "# xlim_high = f1 * 1.2\n",
    "\n",
    "axes[0].set_title('FFT of Isolated Signals')\n",
    "axes[0].set_xlabel('Frequency (Hz)')\n",
    "axes[0].set_ylabel('Magnitude')\n",
    "# axes[0].set_xlim(xlim_low, xlim_high)\n",
    "axes[0].grid()\n",
    "\n",
    "axes[1].set_title('FFT of Concatenated Signals with Zero Padding')\n",
    "axes[1].set_xlabel('Frequency (Hz)')\n",
    "axes[1].set_ylabel('Magnitude')\n",
    "# axes[1].set_xlim(xlim_low, xlim_high)\n",
    "axes[1].grid()\n",
    "\n",
    "plt.tight_layout()\n",
    "plt.show()"
   ]
  }
 ],
 "metadata": {
  "kernelspec": {
   "display_name": ".venv",
   "language": "python",
   "name": "python3"
  },
  "language_info": {
   "codemirror_mode": {
    "name": "ipython",
    "version": 3
   },
   "file_extension": ".py",
   "mimetype": "text/x-python",
   "name": "python",
   "nbconvert_exporter": "python",
   "pygments_lexer": "ipython3",
   "version": "3.10.11"
  }
 },
 "nbformat": 4,
 "nbformat_minor": 2
}
