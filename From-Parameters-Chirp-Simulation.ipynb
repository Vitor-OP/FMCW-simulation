{
 "cells": [
  {
   "cell_type": "code",
   "execution_count": 1,
   "metadata": {},
   "outputs": [],
   "source": [
    "import numpy as np\n",
    "import matplotlib.pyplot as plt"
   ]
  },
  {
   "cell_type": "code",
   "execution_count": 24,
   "metadata": {},
   "outputs": [],
   "source": [
    "from dataclasses import dataclass\n",
    "\n",
    "# Dataclasses for SDK5 Configuration inputs parameteres.\n",
    "@dataclass\n",
    "class ChirpComnCfg:\n",
    "    digOutputSampRate: float # Sampling Rate decimator (sampling rate given by 100MHz/digoutputsamprate i.e digoutsamplerate = 8, sampling rate = 12.5MHz)\n",
    "    digOutputBitsSel: int # Digital output sample bits select:\n",
    "    # n important pelo momento\n",
    "    \"\"\" \n",
    "        - 0 - Digital sample output is 12 MSB bits of DFE after rounding 4 LSBs. \n",
    "        - 1 - Digital sample output is 12 bits after rounding 3 LSBs & clipping 1 MSB. \n",
    "        - 2 - Digital sample output is 12 bits after rounding 2 LSBs & clipping 2 MSB. \n",
    "        - 3 - Digital sample output is 12 bits after rounding 1 LSBs & clipping 3 MSB. \n",
    "        - 4 - Digital sample output is 12 LSB bits after clipping 4 MSB. \n",
    "        - 5 - Digital sample output is 16 bits.\n",
    "    \"\"\"\n",
    "    dfeFirSel: int # The final stage FIR filter's characteristics:\n",
    "    # n important pelo momento\n",
    "    \"\"\"\n",
    "        0 - Long Filter (90% visibility)\n",
    "        1 - Shorter filter (80% visibility)\n",
    "    \"\"\"\n",
    "    numOfAdcSamples: int # Number of ADC samples collected during ADC sampling time (needs to be power of 2)\n",
    "    \n",
    "    chirpTxMimoPatSel: int # ? modelos de estimacao de angulo diferentes (n importante no momento)\n",
    "    \"\"\"\n",
    "        1 - enable TDM\n",
    "        4 - enable BPM\n",
    "    \"\"\"\n",
    "    \n",
    "    chirpRampEndTime: float # ramp end time (us) \n",
    "    # bem importante !!!!!!!!!!!!!!!!!!!!!!!!\n",
    "    \"\"\"\n",
    "        Ramp end time (us): This parameter is the sum of the ADC start time, ADC sampling time, and some ramp excess time.\n",
    "        In other words, its the ramp period.\n",
    "        Documentation says a minimum of:\n",
    "        (chirpAdcSkipSamples + numOfAdcSamples + 7), for short filter (dfeFirSel = 1)\n",
    "        (chirpAdcSkipSamples + numOfAdcSamples + 10), for long filter (dfeFirSel = 0)\n",
    "\n",
    "    \"\"\"\n",
    "    \n",
    "    chirpRxHpfSel: int # Chirp Profile HPF corner frequency:\n",
    "    # High pass filter to filter out the bumper or anything too close to the radar.\n",
    "    \"\"\"\n",
    "        - 0 - 175kHz HPF corner frequency \n",
    "        - 1 - 350kHz HPF corner frequency\n",
    "        - 2 - 700kHz HPF corner frequency \n",
    "        - 3 - 1400kHz HPF corner frequency\n",
    "    \"\"\"\n",
    "\n",
    "@dataclass\n",
    "class ChirpTimingCfg:\n",
    "    chirpIdleTime: float # Idle Time (us) in the chirp cicle before the frequency ramp\n",
    "    chirpAdcSkipSamples: int # Number of samples skipped during ADC sampling. The ADC start time in us is computed based on the sampling rate. (0 - 63)\n",
    "    chirpTxStartTime: float # Tx Start Time (us). Recommended Range: +- 5us\n",
    "    chirpRfFreqSlope: float # Frequency Slope (MHz/us). (-399MHz/us to +399MHz/us)\n",
    "    chirpRfFreqStart: float # Starting Frequency (GHz)\n",
    "\n",
    "@dataclass\n",
    "class ChannelCfg:\n",
    "    rxChannelEn: float # Rx Antenna Mask; for 3 antennas, it is 0111b = 7\n",
    "    txChannelEn: float # Tx Antenna; for 2 antenas it is 0011b = 3\n",
    "    miscCtrl: float # ? SoC cascading (not supported with SDK)\n",
    "\n",
    "@dataclass\n",
    "class FrameCfg:\n",
    "    numOfChirppsInBurst: int # Number of chirps in a burst (1 - 65535)\n",
    "    numOfChirpsAccum: int # Number of chirps accumulated (0 - 64)\n",
    "    burstPeriodicity: float # Burst periodicity (us)\n",
    "    numOfBurstsInFrame: int # Number of bursts within a frame (1 - 4096)\n",
    "    framePeriodicity: float # Frame Periodicity (ms)\n",
    "    numOfFrames: int # Number of total frames (0 - 65535) (0 = infinite)\n",
    "\n",
    "@dataclass\n",
    "class FactoryCalibCfg:\n",
    "    saveEnable: bool # Save calibration data to flash (0-1)\n",
    "    restoreEnable: bool # Restore and load calibration data from FLASH\n",
    "    rxGain: float # RX Gain in dB (30-40 strongly recommended)\n",
    "    txBackoff: float # TX Backoff in dB (0 - 26)\n",
    "    flashOffset: float # Address ofset in the flash to be used while saving or restoring calibration data\n",
    "\n",
    "# Dataclasses for device specific configuration parameters\n",
    "# @dataclass\n",
    "# class ConfigurationParameters:\n",
    "#     StartFrequency: float # (GHz)\n",
    "#     FrequencySlope: float # (MHz/us)\n",
    "#     SamplingRate: float # (MHz)\n",
    "#     NumberofSamples: int # Number of samples\n",
    "#     NumberofChirpsLoops: int # Number of chirps loops\n",
    "#     IdleTime: float # (us)\n",
    "#     ADCValidStartTime: int # (us)\n",
    "#     RampEndTime: float # (us)\n",
    "#     FramePeriodicity: float # (ms)\n",
    "\n",
    "class MmWaveConfig:\n",
    "    def __init__(self, \n",
    "                 chirp_comn_cfg: ChirpComnCfg,\n",
    "                 chirp_timing_cfg: ChirpTimingCfg,\n",
    "                 channel_cfg: ChannelCfg,\n",
    "                 frame_cfg: FrameCfg,\n",
    "                 factory_calib_cfg: FactoryCalibCfg):\n",
    "        \n",
    "        self.chirp_comn_cfg = chirp_comn_cfg\n",
    "        self.chirp_timing_cfg = chirp_timing_cfg\n",
    "        self.channel_cfg = channel_cfg\n",
    "        self.frame_cfg = frame_cfg\n",
    "        self.factory_calib_cfg = factory_calib_cfg\n",
    "        \n",
    "        # Important parameters that come directly from the radar configuration (left here as comment as a path remember)\n",
    "            # slope = mmwave_config.chirp_timing_cfg.chirpRfFreqSlope # MHz/us\n",
    "            # f0 = mmwave_config.chirp_timing_cfg.chirpRfFreqStart # GHz\n",
    "            # nADC = mmwave_config.chirp_comn_cfg.numOfAdcSamples # number of samples taken with the ADC (always power of two)\n",
    "            # T_chirp_ramp = mmwave_config.chirp_comn_cfg.chirpRampEndTime # us # ramp duration\n",
    "            # chirp_idle_time = mmwave_config.chirp_timing_cfg.chirpIdleTime # us\n",
    "            \n",
    "            # n_skiped_chirps = mmwave_config.chirp_timing_cfg.chirpAdcSkipSamples #skiped samples\n",
    "            # n_chirps_in_burst = mmwave_config.frame_cfg.numOfChirppsInBurst\n",
    "            # n_bursts_in_frame = mmwave_config.frame_cfg.numOfBurstsInFrame\n",
    "            # T_frame = mmwave_config.frame_cfg.framePeriodicity # ms\n",
    "            # T_burst = mmwave_config.frame_cfg.burstPeriodicity # us\n",
    "            \n",
    "        # Important parameters that dont come directly from the radar configuration\n",
    "        self.SamplingFrequency = 100 / self.chirp_comn_cfg.digOutputSampRate # MHz # ADC freq\n",
    "        self.IntermediateFrequencyMaximum = 0.9 * self.SamplingFrequency / 2 # MHz # Maximum readable frequency from the ADC in the current config\n",
    "        self.TSampling = self.chirp_comn_cfg.numOfAdcSamples / self.SamplingFrequency # us # Period of sampling\n",
    "        self.EndFreq = self.chirp_timing_cfg.chirpRfFreqStart + (self.chirp_timing_cfg.chirpRfFreqSlope * self.chirp_comn_cfg.chirpRampEndTime * 1e-3) # GHz\n",
    "        \n",
    "        self.Bandwidth = self.chirp_timing_cfg.chirpRfFreqSlope * self.TSampling # MHz\n",
    "        \n",
    "        self.TChirp = self.chirp_comn_cfg.chirpRampEndTime + self.chirp_timing_cfg.chirpIdleTime # us\n",
    "        self.nChirpsLoop = self.frame_cfg.numOfChirppsInBurst * self.frame_cfg.burstPeriodicity # n chirps per frame\n",
    "        \n",
    "        self.ADCValidStartTime = self.chirp_timing_cfg.chirpAdcSkipSamples / self.SamplingFrequency # us\n",
    "        \n",
    "        self.CarrierFreq = self.chirp_timing_cfg.chirpRfFreqStart + ((self.chirp_timing_cfg.chirpRfFreqSlope * self.ADCValidStartTime) + (self.Bandwidth / 2)) * 1e-3 # GHz\n",
    "        \n",
    "        self.nRxAntenas = bin(int(channel_cfg.rxChannelEn)).count(\"1\")\n",
    "        self.nTxAntenas = bin(int(channel_cfg.txChannelEn)).count(\"1\")\n",
    "        self.nVirtualAntenas = self.nRxAntenas * self.nTxAntenas\n",
    "        \n",
    "        self.config_caracteristics = self.ConfigCaracteristics(self)\n",
    "    \n",
    "    @dataclass\n",
    "    class ConfigCaracteristics:\n",
    "        def __init__(self, mmwave_config: 'MmWaveConfig'):\n",
    "            c = 3e2 # m/us\n",
    "            \n",
    "            self.RangeMaximum = mmwave_config.IntermediateFrequencyMaximum * c / (2 * mmwave_config.chirp_timing_cfg.chirpRfFreqSlope) # m\n",
    "            self.RangeResolution = c / (2 * mmwave_config.Bandwidth) # m\n",
    "            self.MaximumUnambiguousVelocity = c / (4 * mmwave_config.CarrierFreq * mmwave_config.TChirp * 1e-3) # m/s\n",
    "            self.VelocityResolution = 2 * self.MaximumUnambiguousVelocity / (mmwave_config.frame_cfg.numOfBurstsInFrame) # m/s\n",
    "            self.ChirpTime = mmwave_config.TSampling\n",
    "            if mmwave_config.chirp_comn_cfg.chirpTxMimoPatSel == 4: # burst mode\n",
    "                self.ChirpRepetitionPeriod = mmwave_config.frame_cfg.burstPeriodicity\n",
    "            else: # mmwave_config.chirp_comn_cfg.chirpTxMimoPatSel == 1\n",
    "                self.ChirpRepetitionPeriod = mmwave_config.nTxAntenas * mmwave_config.TChirp\n",
    "            self.RFDutyCycle = mmwave_config.nChirpsLoop * mmwave_config.TChirp / mmwave_config.frame_cfg.framePeriodicity * 1e-2\n",
    "            if mmwave_config.frame_cfg.numOfBurstsInFrame == 1:\n",
    "                self.ComplianceChripTime = mmwave_config.TChirp * mmwave_config.nTxAntenas * mmwave_config.nChirpsLoop * 1e-2\n",
    "            else:\n",
    "                self.ComplianceChripTime = mmwave_config.frame_cfg.burstPeriodicity * mmwave_config.frame_cfg.numOfChirppsInBurst * 1e-2\n",
    "            self.RadarCubeSize = None # to be implemented\n",
    "            \n",
    "        def __repr__(self):\n",
    "            return (f\"ConfigCaracteristics(\\n\"\n",
    "                    f\"  RangeMaximum: {self.RangeMaximum:.2f} m,\\n\"\n",
    "                    f\"  RangeResolution: {self.RangeResolution:.2f} m,\\n\"\n",
    "                    f\"  MaximumUnambiguousVelocity: {self.MaximumUnambiguousVelocity:.2f} m/s,\\n\"\n",
    "                    f\"  VelocityResolution: {self.VelocityResolution:.2f} m/s,\\n\"\n",
    "                    f\"  ChirpTime: {self.ChirpTime} us,\\n\"\n",
    "                    f\"  ChirpRepetitionPeriod: {self.ChirpRepetitionPeriod} us,\\n\"\n",
    "                    f\"  RFDutyCycle: {self.RFDutyCycle} %,\\n\"\n",
    "                    f\"  ComplianceChripTime: {self.ComplianceChripTime:.2f} ms,\\n\"\n",
    "                    f\"  RadarCubeSize: {self.RadarCubeSize} kB\\n\"\n",
    "                    f\")\")\n",
    "\n",
    "    def save_to_file(self, file_path: str = None):\n",
    "        \"\"\"Saves the configuration to a file in the required format.\"\"\"\n",
    "        if file_path is None:\n",
    "            file_path = \"./mmwave_config.cfg\"\n",
    "        \n",
    "        with open(file_path, 'w') as file:\n",
    "            file.write(f\"% This cfg file needs to be completed with SDK commands\\n\")\n",
    "            file.write(f\"% The commands can be found at <SDK_BASE_DIR/docs/mmwave_sdk_user_guide.pdf\\n\")\n",
    "            \n",
    "            # Write the configurations in the required format\n",
    "            file.write(f\"chirpComnCfg {self.chirp_comn_cfg.digOutputSampRate} {self.chirp_comn_cfg.digOutputBitsSel} \"\n",
    "                    f\"{self.chirp_comn_cfg.dfeFirSel} {self.chirp_comn_cfg.numOfAdcSamples} \"\n",
    "                    f\"{self.chirp_comn_cfg.chirpTxMimoPatSel} {self.chirp_comn_cfg.chirpRampEndTime} \"\n",
    "                    f\"{self.chirp_comn_cfg.chirpRxHpfSel}\\n\")\n",
    "            \n",
    "            file.write(f\"chirpTimingCfg {self.chirp_timing_cfg.chirpIdleTime} {self.chirp_timing_cfg.chirpAdcSkipSamples} \"\n",
    "                    f\"{self.chirp_timing_cfg.chirpTxStartTime} {self.chirp_timing_cfg.chirpRfFreqSlope} \"\n",
    "                    f\"{self.chirp_timing_cfg.chirpRfFreqStart}\\n\")\n",
    "            \n",
    "            file.write(f\"channelCfg {self.channel_cfg.rxChannelEn} {self.channel_cfg.txChannelEn} \"\n",
    "                    f\"{self.channel_cfg.miscCtrl}\\n\")\n",
    "            \n",
    "            file.write(f\"frameCfg {self.frame_cfg.numOfChirppsInBurst} {self.frame_cfg.numOfChirpsAccum} \"\n",
    "                    f\"{self.frame_cfg.burstPeriodicity} {self.frame_cfg.numOfBurstsInFrame} \"\n",
    "                    f\"{self.frame_cfg.framePeriodicity} {self.frame_cfg.numOfFrames}\\n\")\n",
    "            \n",
    "            file.write(f\"factoryCalibCfg {self.factory_calib_cfg.saveEnable} {self.factory_calib_cfg.restoreEnable} \"\n",
    "                    f\"{self.factory_calib_cfg.rxGain} {self.factory_calib_cfg.txBackoff} \"\n",
    "                    f\"{self.factory_calib_cfg.flashOffset}\\n\")\n",
    "    \n",
    "    @classmethod\n",
    "    def parse_mmwave_config(cls, file_content: str):\n",
    "        \"\"\"Parses the configuration from the provided file content.\"\"\"\n",
    "        lines = file_content.strip().split('\\n')\n",
    "\n",
    "        # Dictionaries to hold parsed values\n",
    "        chirp_comn_cfg = chirp_timing_cfg = channel_cfg = frame_cfg = factory_calib_cfg = None\n",
    "\n",
    "        # Parse each line and map values to the appropriate config object\n",
    "        for line in lines:\n",
    "            parts = line.split()\n",
    "            if line.startswith(\"chirpComnCfg\"):\n",
    "                chirp_comn_cfg = ChirpComnCfg(*map(float, parts[1:]))\n",
    "            elif line.startswith(\"chirpTimingCfg\"):\n",
    "                chirp_timing_cfg = ChirpTimingCfg(*map(float, parts[1:]))\n",
    "            elif line.startswith(\"channelCfg\"):\n",
    "                channel_cfg = ChannelCfg(*map(float, parts[1:]))\n",
    "            elif line.startswith(\"frameCfg\"):\n",
    "                frame_cfg = FrameCfg(*map(float, parts[1:]))\n",
    "            elif line.startswith(\"factoryCalibCfg\"):\n",
    "                factory_calib_cfg = FactoryCalibCfg(*map(float, parts[1:]))\n",
    "\n",
    "        # Create and return an instance of MmWaveConfig\n",
    "        return cls(\n",
    "            chirp_comn_cfg=chirp_comn_cfg,\n",
    "            chirp_timing_cfg=chirp_timing_cfg,\n",
    "            channel_cfg=channel_cfg,\n",
    "            frame_cfg=frame_cfg,\n",
    "            factory_calib_cfg=factory_calib_cfg\n",
    "        )\n",
    "\n",
    "def load_mmwave_config_from_file(file_path: str) -> MmWaveConfig:\n",
    "    with open(file_path, 'r') as file:\n",
    "        file_content = file.read()\n",
    "    return MmWaveConfig.parse_mmwave_config(file_content)\n"
   ]
  },
  {
   "cell_type": "code",
   "execution_count": 25,
   "metadata": {},
   "outputs": [
    {
     "data": {
      "text/plain": [
       "{'chirp_comn_cfg': ChirpComnCfg(digOutputSampRate=33.0, digOutputBitsSel=0.0, dfeFirSel=0.0, numOfAdcSamples=128.0, chirpTxMimoPatSel=4.0, chirpRampEndTime=50.0, chirpRxHpfSel=0.0),\n",
       " 'chirp_timing_cfg': ChirpTimingCfg(chirpIdleTime=6.0, chirpAdcSkipSamples=19.0, chirpTxStartTime=0.0, chirpRfFreqSlope=18.39, chirpRfFreqStart=76.0),\n",
       " 'channel_cfg': ChannelCfg(rxChannelEn=7.0, txChannelEn=3.0, miscCtrl=0.0),\n",
       " 'frame_cfg': FrameCfg(numOfChirppsInBurst=2.0, numOfChirpsAccum=0.0, burstPeriodicity=227.0, numOfBurstsInFrame=20.0, framePeriodicity=200.0, numOfFrames=0.0),\n",
       " 'factory_calib_cfg': FactoryCalibCfg(saveEnable=1.0, restoreEnable=0.0, rxGain=30.0, txBackoff=0.0, flashOffset=0.0),\n",
       " 'SamplingFrequency': 3.0303030303030303,\n",
       " 'IntermediateFrequencyMaximum': 1.3636363636363638,\n",
       " 'TSampling': 42.24,\n",
       " 'EndFreq': 76.9195,\n",
       " 'Bandwidth': 776.7936000000001,\n",
       " 'TChirp': 56.0,\n",
       " 'nChirpsLoop': 454.0,\n",
       " 'ADCValidStartTime': 6.2700000000000005,\n",
       " 'CarrierFreq': 76.5037021,\n",
       " 'nRxAntenas': 3,\n",
       " 'nTxAntenas': 2,\n",
       " 'nVirtualAntenas': 6,\n",
       " 'config_caracteristics': ConfigCaracteristics(\n",
       "   RangeMaximum: 11.12 m,\n",
       "   RangeResolution: 0.19 m,\n",
       "   MaximumUnambiguousVelocity: 17.51 m/s,\n",
       "   VelocityResolution: 1.75 m/s,\n",
       "   ChirpTime: 42.24 us,\n",
       "   ChirpRepetitionPeriod: 227.0 us,\n",
       "   RFDutyCycle: 1.2712 %,\n",
       "   ComplianceChripTime: 4.54 ms,\n",
       "   RadarCubeSize: None kB\n",
       " )}"
      ]
     },
     "execution_count": 25,
     "metadata": {},
     "output_type": "execute_result"
    }
   ],
   "source": [
    "# I'll first read the file content to understand its structure and then proceed to parse it.\n",
    "file_path = './profile_2024_10_10T13_21_31_415.cfg'\n",
    "\n",
    "# Parsing the configuration file\n",
    "mmwave_config = load_mmwave_config_from_file(file_path)\n",
    "\n",
    "mmwave_config.__dict__"
   ]
  },
  {
   "cell_type": "code",
   "execution_count": 4,
   "metadata": {},
   "outputs": [],
   "source": [
    "# mmwave_config.save_to_file('./oi.cfg')\n",
    "# mmwave_config.print_results(mmwave_config.config_caracteristics)"
   ]
  },
  {
   "cell_type": "code",
   "execution_count": 5,
   "metadata": {},
   "outputs": [],
   "source": [
    "slope = mmwave_config.chirp_timing_cfg.chirpRfFreqSlope # MHz/us\n",
    "f0 = mmwave_config.chirp_timing_cfg.chirpRfFreqStart # GHz\n",
    "nADC = mmwave_config.chirp_comn_cfg.numOfAdcSamples # number of samples taken with the ADC (always power of two)\n",
    "fs = 100/mmwave_config.chirp_comn_cfg.digOutputSampRate # MHz (ADC frequency)\n",
    "\n",
    "IF_max = 0.9*fs/2 # MHz (max beat frequency as 90% of the Nyquist frequency)\n",
    "\n",
    "T_sampling = nADC/fs # us\n",
    "bandwidth = slope*T_sampling # MHz\n",
    "\n",
    "T_chirp_ramp = mmwave_config.chirp_comn_cfg.chirpRampEndTime # ramp duration\n",
    "chirp_idle_time = mmwave_config.chirp_timing_cfg.chirpIdleTime # us\n",
    "\n",
    "f1 = f0 + (slope*T_chirp_ramp*1e-3) # GHz\n",
    "\n",
    "T_chirp = chirp_idle_time + T_chirp_ramp # us\n",
    "\n",
    "n_skiped_chirps = mmwave_config.chirp_timing_cfg.chirpAdcSkipSamples #skiped samples\n",
    "ADC_valid_start_time = n_skiped_chirps/fs # us\n",
    "\n",
    "fc = f0 + ((slope*ADC_valid_start_time) + (bandwidth/2))*1e-3 # GHz # its not the average of f0 and f1 because it should take in consideration that the ADC doesnt start with the chirps slope.\n",
    "\n",
    "n_chirps_in_burst = mmwave_config.frame_cfg.numOfChirppsInBurst\n",
    "n_bursts_in_frame = mmwave_config.frame_cfg.numOfBurstsInFrame\n",
    "T_frame = mmwave_config.frame_cfg.framePeriodicity # ms\n",
    "T_burst = mmwave_config.frame_cfg.burstPeriodicity # us"
   ]
  },
  {
   "cell_type": "code",
   "execution_count": 6,
   "metadata": {},
   "outputs": [
    {
     "name": "stdout",
     "output_type": "stream",
     "text": [
      "Max Range: 11.122645706658759 m\n",
      "Range Resolution: 0.1931014879628256 m\n"
     ]
    }
   ],
   "source": [
    "c = 3e2 # Speed of light (m/us) (to match the units of the slope)\n",
    "\n",
    "Range_max = IF_max*c/(2*slope) # m (this is the max range limited by the bandwith of the IF, but it can also be limited by SNR)\n",
    "\n",
    "print(f'Max Range: {Range_max} m')\n",
    "\n",
    "T_sampling = nADC/fs # us\n",
    "bandwidth = slope*T_sampling # MHz\n",
    "\n",
    "Range_resolution = c/(2*bandwidth) # m\n",
    "\n",
    "print(f'Range Resolution: {Range_resolution} m')"
   ]
  },
  {
   "cell_type": "code",
   "execution_count": 7,
   "metadata": {},
   "outputs": [
    {
     "name": "stdout",
     "output_type": "stream",
     "text": [
      "Max Unambiguous Velocity: 17.506155617607877 m/s\n",
      "Velocity Resolution: 1.7506155617607877 m/s\n"
     ]
    }
   ],
   "source": [
    "# f0 = 310 # ??????????????????????????????????????????????????\n",
    "carrier_wavelength = c/fc * 1e-3  # m\n",
    "# carrier_wavelength = 3e8/(f0*1e9)\n",
    "\n",
    "max_unambiguous_velocity = carrier_wavelength / (4*T_chirp*1e-6)\n",
    "\n",
    "print(f'Max Unambiguous Velocity: {max_unambiguous_velocity} m/s')\n",
    "\n",
    "# velocity_resolution = carrier_wavelength/(2*n_chir\n",
    "# ps_in_burst*n_bursts_in_frame*T_chirp) # m/s\n",
    "\n",
    "# print(f'Velocity Resolution: {velocity_resolution} m/s')\n",
    "\n",
    "velocity_resolution = 2*max_unambiguous_velocity/(n_bursts_in_frame) # it should be 2 instead of 4 but its wrong (??)\n",
    "\n",
    "print(f'Velocity Resolution: {velocity_resolution} m/s')"
   ]
  },
  {
   "cell_type": "code",
   "execution_count": 8,
   "metadata": {},
   "outputs": [
    {
     "name": "stdout",
     "output_type": "stream",
     "text": [
      "Chirp Time, Tc (us): 42.24\n",
      "Chirp Repetition Period, Tr (us): 227.0\n"
     ]
    }
   ],
   "source": [
    "print(f'Chirp Time, Tc (us): {T_sampling}')\n",
    "\n",
    "if mmwave_config.chirp_comn_cfg.chirpTxMimoPatSel == 4: # burst mode\n",
    "    print(f'Chirp Repetition Period, Tr (us): {T_burst}')\n",
    "else: # chirpTxMimoPatSel == 1\n",
    "    print(f'Chirp Repetition Period, Tr (us): {mmwave_config.nTxAntenas * T_chirp}')"
   ]
  },
  {
   "cell_type": "code",
   "execution_count": 9,
   "metadata": {},
   "outputs": [
    {
     "name": "stdout",
     "output_type": "stream",
     "text": [
      "RF Duty Cycle (%):1.12\n",
      "Compliance Chirp Time (ms): 4.54\n"
     ]
    }
   ],
   "source": [
    "n_chirps_loops = n_chirps_in_burst*n_bursts_in_frame # chirsp per frame\n",
    "# if SDK5\n",
    "print(f'RF Duty Cycle (%):{n_chirps_loops*T_chirp/T_frame*1e-1:.2f}')\n",
    "if n_bursts_in_frame == 1:\n",
    "    print(f'Compliance Chirp Time (ms): {T_chirp*mmwave_config.nTxAntenas*n_chirps_loops*1e-3}')\n",
    "else:\n",
    "    print(f'Compliance Chirp Time (ms): {T_burst*n_bursts_in_frame*1e-3}')\n",
    "    \n",
    "# if SDK3\n",
    "# print(f'RF Duty Cycle (%):{mmwave_config.nTxAntenas*n_chirps_loops*T_chirp/T_frame*1e-1}')\n",
    "# print(f'Compliance Chirp Time (ms): {T_chirp*mmwave_config.nTxAntenas*n_chirps_loops*1e-3}')"
   ]
  },
  {
   "cell_type": "code",
   "execution_count": 10,
   "metadata": {},
   "outputs": [
    {
     "name": "stdout",
     "output_type": "stream",
     "text": [
      "Active Chriping Time (ms): 4.0\n"
     ]
    }
   ],
   "source": [
    "# I belive this should be the same thing (??????)\n",
    "print(f'Active Chriping Time (ms): {T_chirp_ramp*mmwave_config.nTxAntenas*n_chirps_loops*1e-3}') # SDK3\n",
    "# print(f'Active Chriping Time (ms): {T_chirp_ramp*mmwave_config.nTxAntenas*n_chirps_in_burst*n_bursts_in_frame*1e-3}') #SDK5\n",
    "\n",
    "# CUBE SIZE\n",
    "# will make it later, just showing the ammount of memory it takes when all the calculations are done instead of calculating the teoric value (i couldnt make it work)\n"
   ]
  },
  {
   "cell_type": "code",
   "execution_count": 11,
   "metadata": {},
   "outputs": [
    {
     "name": "stdout",
     "output_type": "stream",
     "text": [
      "Max Beat Frequency: 1.36 MHz\n",
      "Valid Sweep Bandwidth, B (MHz): 776.79 MHz\n"
     ]
    }
   ],
   "source": [
    "print(f'Max Beat Frequency: {IF_max:.2f} MHz')\n",
    "print(f'Valid Sweep Bandwidth, B (MHz): {bandwidth:.2f} MHz')"
   ]
  },
  {
   "cell_type": "code",
   "execution_count": 12,
   "metadata": {},
   "outputs": [
    {
     "name": "stdout",
     "output_type": "stream",
     "text": [
      "Carrier Frequency fc: 76.5037021\n",
      "End Frequency: 76.9195 GHz\n"
     ]
    }
   ],
   "source": [
    "print(f'Carrier Frequency fc: {fc}')\n",
    "print(f'End Frequency: {f1} GHz')"
   ]
  }
 ],
 "metadata": {
  "kernelspec": {
   "display_name": ".venv",
   "language": "python",
   "name": "python3"
  },
  "language_info": {
   "codemirror_mode": {
    "name": "ipython",
    "version": 3
   },
   "file_extension": ".py",
   "mimetype": "text/x-python",
   "name": "python",
   "nbconvert_exporter": "python",
   "pygments_lexer": "ipython3",
   "version": "3.10.11"
  }
 },
 "nbformat": 4,
 "nbformat_minor": 2
}
